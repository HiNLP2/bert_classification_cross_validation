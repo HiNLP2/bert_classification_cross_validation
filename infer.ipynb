{
 "cells": [
  {
   "cell_type": "markdown",
   "metadata": {},
   "source": [
    "## 推理"
   ]
  },
  {
   "cell_type": "code",
   "execution_count": null,
   "metadata": {},
   "outputs": [],
   "source": [
    "import pandas as pd\n",
    "from torch4keras.snippets import YamlConfig\n",
    "import os\n",
    "\n",
    "config = YamlConfig('./config.yaml')\n",
    "data_dir = config['data_dir']\n",
    "root_dir = config['root_dir']\n",
    "model_dir = os.path.join(root_dir, 'ckpt')\n",
    "train_data_path = os.path.join(data_dir, 'cls.xlsx')\n",
    "train_data_save_path = os.path.join(root_dir, 'prediction/cls.xlsx')\n",
    "test_data_path = os.path.join(data_dir, '20250319.xlsx')\n",
    "test_data_save_path = os.path.join(root_dir, 'prediction/20250319.xlsx')"
   ]
  },
  {
   "cell_type": "code",
   "execution_count": null,
   "metadata": {},
   "outputs": [],
   "source": [
    "from train import inference, model\n",
    "\n",
    "def batch_infer(input_path, output_path):\n",
    "    train_data = pd.read_excel(input_path)\n",
    "    map_data = pd.read_excel(os.path.join(data_dir, 'category_map.xlsx'))\n",
    "    if all(train_data['class_id'].isna()):\n",
    "        train_data.drop('class_id', axis=1, inplace=True)\n",
    "        train_data = pd.merge(train_data, map_data[['class_id', 'class_name']], on='class_name')\n",
    "\n",
    "    map_dict = map_data[['class_id', 'class_name']].set_index('class_id')['class_name'].to_dict()\n",
    "    texts = train_data['content'].to_list()\n",
    "    train_data['maybe_wrong'] = False\n",
    "    for fold in range(0, 5):\n",
    "        model.load_weights(model_dir + f'best_model_{fold}.pt')\n",
    "        preds, logits = inference(model, texts)\n",
    "        train_data[f'pred_{fold}_class_id'] = preds\n",
    "        train_data[f'pred_{fold}_logit'] = logits\n",
    "        train_data[f'pred_{fold}_class_name'] = [map_dict[i] for i in preds]\n",
    "    \n",
    "    train_data.to_excel(output_path)\n",
    "\n",
    "batch_infer(train_data_path, train_data_save_path)\n",
    "batch_infer(test_data_path, test_data_save_path)"
   ]
  },
  {
   "cell_type": "code",
   "execution_count": 18,
   "metadata": {},
   "outputs": [],
   "source": [
    "# 统计可能错误的样本\n",
    "def statistics_maybe_wrong(input_path, output_path):\n",
    "    predict_data = pd.read_excel(input_path)\n",
    "    cols = ['class_id'] + [f'pred_{fold}_class_id' for fold in range(0, 5)]\n",
    "    predict_data['maybe_wrong'] = predict_data.apply(lambda x: len(set(x[cols])), axis=1)\n",
    "    predict_data.to_excel(output_path)\n",
    "\n",
    "statistics_maybe_wrong(train_data_save_path, train_data_save_path)\n",
    "statistics_maybe_wrong(test_data_save_path, test_data_save_path)"
   ]
  },
  {
   "cell_type": "code",
   "execution_count": null,
   "metadata": {},
   "outputs": [],
   "source": [
    "def statistics(input_path):\n",
    "    predict_data = pd.read_excel(input_path)\n",
    "    print('预测不一致的'.center(60, '-'))\n",
    "    print(predict_data['maybe_wrong'].value_counts())\n",
    "\n",
    "statistics(train_data_save_path)\n",
    "statistics(test_data_save_path)"
   ]
  }
 ],
 "metadata": {
  "kernelspec": {
   "display_name": "py312",
   "language": "python",
   "name": "python3"
  },
  "language_info": {
   "codemirror_mode": {
    "name": "ipython",
    "version": 3
   },
   "file_extension": ".py",
   "mimetype": "text/x-python",
   "name": "python",
   "nbconvert_exporter": "python",
   "pygments_lexer": "ipython3",
   "version": "3.12.2"
  }
 },
 "nbformat": 4,
 "nbformat_minor": 2
}
